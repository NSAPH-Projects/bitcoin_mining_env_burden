{
 "cells": [
  {
   "cell_type": "code",
   "execution_count": 1,
   "metadata": {},
   "outputs": [],
   "source": [
    "import sys\n",
    "import os \n",
    "import warnings\n",
    "warnings.filterwarnings('ignore')\n",
    "\n",
    "sys.path.append(os.path.abspath(os.path.join('../src')))"
   ]
  },
  {
   "cell_type": "code",
   "execution_count": 2,
   "metadata": {},
   "outputs": [],
   "source": [
    "from inmap_processing import inmap_data"
   ]
  },
  {
   "cell_type": "code",
   "execution_count": 3,
   "metadata": {},
   "outputs": [
    {
     "name": "stdout",
     "output_type": "stream",
     "text": [
      "                             geometry        PM2_5           NOx         SOx\n",
      "0    POINT (-153851.890 -1287360.227)   658.031045   2984.014285   55.109751\n",
      "1    POINT (-220373.783 -1239132.956)   632.957689   2339.983815   92.805228\n",
      "2    POINT (-218937.420 -1239009.849)   824.026619   6305.160258  100.919152\n",
      "3    POINT (-348058.489 -1100217.697)   309.324035    955.653746   55.512671\n",
      "4    POINT (-130076.139 -1101367.017)  3852.994902  28146.668097  263.844436\n",
      "..                                ...          ...           ...         ...\n",
      "651  POINT (-1566625.009 1320881.508)  1616.559086   3641.593667  169.679673\n",
      "652   POINT (-571435.160 1171742.166)    46.184342    184.216847    8.607330\n",
      "653  POINT (-1562277.071 1321998.441)   487.752188   5972.221325   95.598296\n",
      "654   POINT (-628569.404 1222294.518)    47.934548    301.713584    2.023673\n",
      "655   POINT (-595566.679 1221937.800)   259.420135    500.043167   18.828314\n",
      "\n",
      "[656 rows x 4 columns]\n"
     ]
    }
   ],
   "source": [
    "inmap_data(\n",
    "    input_data='../data/intermediate/df_complete_2022_2023.csv',\n",
    "    output_data_path='/n/dominici_lab/lab/data/bitcoin_mining_env_burden/intermediate/emissions_2022_2023.shp'\n",
    ")"
   ]
  }
 ],
 "metadata": {
  "kernelspec": {
   "display_name": "bitcoin_mining_env",
   "language": "python",
   "name": "python3"
  },
  "language_info": {
   "codemirror_mode": {
    "name": "ipython",
    "version": 3
   },
   "file_extension": ".py",
   "mimetype": "text/x-python",
   "name": "python",
   "nbconvert_exporter": "python",
   "pygments_lexer": "ipython3",
   "version": "3.9.13"
  }
 },
 "nbformat": 4,
 "nbformat_minor": 2
}
